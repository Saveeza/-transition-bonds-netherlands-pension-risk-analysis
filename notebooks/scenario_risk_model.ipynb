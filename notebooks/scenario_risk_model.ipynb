{
 "cells": [
  {
   "cell_type": "markdown",
   "id": "43ca63e3",
   "metadata": {},
   "source": [
    "# Scenario-Based Risk Analysis\n",
    "\n",
    "This notebook simulates stranded asset risk under a hypothetical tightening of EU Taxonomy criteria, especially excluding gas and aviation.\n",
    "\n",
    "## Scenario: Taxonomy Tightening (Gas + Aviation Exclusion)"
   ]
  },
  {
   "cell_type": "code",
   "execution_count": null,
   "id": "19c8b81f",
   "metadata": {},
   "outputs": [],
   "source": [
    "# Load scenario dataset\n",
    "df_scenario = pd.read_csv('../data/scenario_risk_exposure.csv')\n",
    "\n",
    "# Total risk exposure\n",
    "total_risk = df_scenario['exposure_eur_m'].sum()\n",
    "print(f\"Total Stranded Asset Risk: €{total_risk:,.0f} million\")\n",
    "\n",
    "# Heatmap (pivoted data)\n",
    "import seaborn as sns\n",
    "import matplotlib.pyplot as plt\n",
    "\n",
    "pivot = df_scenario.pivot(index='sector', columns='pension_fund', values='exposure_eur_m')\n",
    "sns.heatmap(pivot, annot=True, cmap=\"Reds\", fmt='.0f')\n",
    "plt.title(\"Sectoral Stranded Asset Risk (€ Millions)\")\n",
    "plt.ylabel(\"Sector\")\n",
    "plt.xlabel(\"Pension Fund\")\n",
    "plt.tight_layout()\n",
    "plt.show()"
   ]
  }
 ],
 "metadata": {},
 "nbformat": 4,
 "nbformat_minor": 5
}
