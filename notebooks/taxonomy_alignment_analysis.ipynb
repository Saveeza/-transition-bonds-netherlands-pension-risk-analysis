{
 "cells": [
  {
   "cell_type": "markdown",
   "id": "37513d7a",
   "metadata": {},
   "source": [
    "# EU Taxonomy Alignment Analysis\n",
    "\n",
    "This notebook evaluates the alignment of Dutch pension fund bond holdings with the EU Taxonomy. It uses structured data extracted from annual reports and SFDR templates from 2020–2023 for ABP, PFZW, PME, and PMT.\n",
    "\n",
    "## Objectives\n",
    "- Categorize bonds as Fully Aligned, Partially Aligned, or Non-Aligned.\n",
    "- Apply scoring based on CAPEX, OPEX, and Revenue alignment.\n",
    "- Visualize fund-level taxonomy performance."
   ]
  },
  {
   "cell_type": "code",
   "execution_count": null,
   "id": "cb054197",
   "metadata": {},
   "outputs": [],
   "source": [
    "import pandas as pd\n",
    "import matplotlib.pyplot as plt\n",
    "\n",
    "# Load dataset\n",
    "df = pd.read_csv('../data/cleaned_taxonomy_data.csv')\n",
    "\n",
    "# Scoring model\n",
    "df['alignment_score'] = (\n",
    "    0.4 * df['capex_alignment'] +\n",
    "    0.3 * df['revenue_alignment'] +\n",
    "    0.3 * df['opex_alignment']\n",
    ")\n",
    "\n",
    "# Categorization\n",
    "def classify(score):\n",
    "    if score >= 0.75:\n",
    "        return \"Fully Aligned\"\n",
    "    elif score >= 0.4:\n",
    "        return \"Partially Aligned\"\n",
    "    else:\n",
    "        return \"Non-Aligned\"\n",
    "\n",
    "df['taxonomy_category'] = df['alignment_score'].apply(classify)\n",
    "\n",
    "# Visualization\n",
    "df['taxonomy_category'].value_counts().plot(kind='bar', color='green')\n",
    "plt.title(\"EU Taxonomy Classification of Transition Bonds\")\n",
    "plt.ylabel(\"Number of Bonds\")\n",
    "plt.xlabel(\"Alignment Category\")\n",
    "plt.tight_layout()\n",
    "plt.show()"
   ]
  }
 ],
 "metadata": {
  "kernelspec": {
   "display_name": "Python 3",
   "language": "python",
   "name": "python3"
  }
 },
 "nbformat": 4,
 "nbformat_minor": 5
}
